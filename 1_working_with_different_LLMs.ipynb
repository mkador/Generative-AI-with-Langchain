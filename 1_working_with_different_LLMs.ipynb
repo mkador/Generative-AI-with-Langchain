{
 "cells": [
  {
   "cell_type": "markdown",
   "id": "21ebaff0",
   "metadata": {},
   "source": [
    "# 1. Google API"
   ]
  },
  {
   "cell_type": "code",
   "execution_count": 5,
   "id": "671e529f",
   "metadata": {},
   "outputs": [
    {
     "name": "stdout",
     "output_type": "stream",
     "text": [
      "content=\"The Earth's distance from the Sun is not constant because its orbit is elliptical.  However, the average distance is about **93 million miles** (149.6 million kilometers).  This average distance is also known as one astronomical unit (AU).\" additional_kwargs={} response_metadata={'prompt_feedback': {'block_reason': 0, 'safety_ratings': []}, 'finish_reason': 'STOP', 'model_name': 'gemini-1.5-flash', 'safety_ratings': []} id='run--4c444002-f157-4966-afae-899995241f20-0' usage_metadata={'input_tokens': 6, 'output_tokens': 55, 'total_tokens': 61, 'input_token_details': {'cache_read': 0}}\n"
     ]
    }
   ],
   "source": [
    "from langchain_google_genai import ChatGoogleGenerativeAI\n",
    "import os\n",
    "from dotenv import load_dotenv\n",
    "\n",
    "#load env\n",
    "load_dotenv()\n",
    "\n",
    "#load model\n",
    "\n",
    "model = ChatGoogleGenerativeAI(model='gemini-1.5-flash', google_api_key=os.getenv('GOOGLE_API_KEY'))\n",
    "\n",
    "#user query\n",
    "\n",
    "user_query = \"How far earth from sun?\"\n",
    "output = model.invoke(user_query)\n",
    "print(output)\n"
   ]
  },
  {
   "cell_type": "code",
   "execution_count": 6,
   "id": "15f38e41",
   "metadata": {},
   "outputs": [
    {
     "name": "stdout",
     "output_type": "stream",
     "text": [
      "content=\"A black hole is a region of spacetime where gravity is so strong that nothing, not even light, can escape.  It's formed when a massive star collapses at the end of its life.  The star's mass is compressed into an incredibly tiny space, creating a point of infinite density called a singularity.\\n\\nHere's a breakdown of key characteristics:\\n\\n* **Singularity:** The central point of a black hole where all the mass is concentrated.  Our current understanding of physics breaks down at the singularity.\\n\\n* **Event Horizon:** The boundary around a black hole beyond which nothing can escape.  Once something crosses the event horizon, it's lost forever.  The size of the event horizon is determined by the black hole's mass.\\n\\n* **Gravitational Field:** Black holes have incredibly strong gravitational fields that warp spacetime around them. This warping affects the paths of light and matter, causing them to bend as they pass nearby.\\n\\n* **Types:**  There are several theoretical types of black holes, including stellar-mass black holes (formed from the collapse of massive stars), supermassive black holes (found at the centers of most galaxies), and intermediate-mass black holes (a less well-understood category).\\n\\n* **Detection:** Black holes cannot be seen directly because they don't emit light.  However, their presence can be inferred through their gravitational effects on nearby matter and light.  Astronomers detect them by observing:\\n    * **Accretion disks:**  Matter swirling around a black hole before it's pulled in, emitting intense radiation.\\n    * **Gravitational lensing:**  The bending of light from distant objects as it passes near a black hole.\\n    * **Gravitational waves:**  Ripples in spacetime caused by the collision of black holes.\\n\\n\\nIn short, a black hole is a fascinating and extreme object that represents one of the most profound mysteries in physics.  While we understand much about their effects, the nature of the singularity itself remains a significant challenge for scientists.\" additional_kwargs={} response_metadata={'prompt_feedback': {'block_reason': 0, 'safety_ratings': []}, 'finish_reason': 'STOP', 'model_name': 'gemini-1.5-flash', 'safety_ratings': []} id='run--59c35ed9-8161-4633-bfdf-2d4afc1d0b84-0' usage_metadata={'input_tokens': 5, 'output_tokens': 415, 'total_tokens': 420, 'input_token_details': {'cache_read': 0}}\n"
     ]
    }
   ],
   "source": [
    "user_query = \"what is black hole ?\"\n",
    "output = model.invoke(user_query)\n",
    "print(output)"
   ]
  },
  {
   "cell_type": "markdown",
   "id": "fdc7c934",
   "metadata": {},
   "source": [
    "# 2. Open API\n",
    "## Open Api has not any free model ,that's why open api key is not working here, If i have pain account it will be work"
   ]
  },
  {
   "cell_type": "code",
   "execution_count": null,
   "id": "53443847",
   "metadata": {},
   "outputs": [],
   "source": [
    "# from langchain_openai import ChatOpenAI\n",
    "# from dotenv import load_dotenv\n",
    "\n",
    "# load_dotenv()\n",
    "\n",
    "# chat_model = ChatOpenAI(\n",
    "#     model='gpt-3.5-turbo',\n",
    "#     temperature=1.5,\n",
    "#     max_tokens=10  # safer for compatibility\n",
    "# )\n",
    "\n",
    "# result = chat_model.invoke(\"What is your name?\")\n",
    "# print(result.content)\n"
   ]
  },
  {
   "cell_type": "markdown",
   "id": "3edb3f61",
   "metadata": {},
   "source": [
    "# 3. Anthopic API"
   ]
  },
  {
   "cell_type": "code",
   "execution_count": null,
   "id": "cd87bca9",
   "metadata": {},
   "outputs": [],
   "source": [
    "# from langchain_anthropic import ChatAnthropic\n",
    "# from dotenv import load_dotenv\n",
    "\n",
    "# load_dotenv()\n",
    "\n",
    "# model = ChatAnthropic(model='claude-3-5-sonnet-20241022')\n",
    "\n",
    "# result = model.invoke('What is black hole')\n",
    "\n",
    "# print(result.content"
   ]
  }
 ],
 "metadata": {
  "kernelspec": {
   "display_name": "myenv (3.12.3)",
   "language": "python",
   "name": "python3"
  },
  "language_info": {
   "codemirror_mode": {
    "name": "ipython",
    "version": 3
   },
   "file_extension": ".py",
   "mimetype": "text/x-python",
   "name": "python",
   "nbconvert_exporter": "python",
   "pygments_lexer": "ipython3",
   "version": "3.12.3"
  }
 },
 "nbformat": 4,
 "nbformat_minor": 5
}
